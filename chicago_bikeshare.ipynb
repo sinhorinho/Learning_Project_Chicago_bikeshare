{
 "cells": [
  {
   "cell_type": "code",
   "execution_count": 1,
   "metadata": {},
   "outputs": [],
   "source": [
    "# coding: utf-8\n",
    "\n",
    "# Começando com os imports\n",
    "import csv\n",
    "import matplotlib.pyplot as plt\n",
    "%matplotlib inline\n"
   ]
  },
  {
   "cell_type": "code",
   "execution_count": 4,
   "metadata": {},
   "outputs": [],
   "source": [
    "with open(\"../Project_Chicago_bikeshare/chicago.csv\", \"r\") as file_read:\n",
    "    reader = csv.reader(file_read)\n",
    "    data_list = list(reader)"
   ]
  },
  {
   "cell_type": "code",
   "execution_count": 5,
   "metadata": {},
   "outputs": [
    {
     "name": "stdout",
     "output_type": "stream",
     "text": [
      "Número de linhas:\n",
      "1551506\n"
     ]
    }
   ],
   "source": [
    "print(\"Número de linhas:\")\n",
    "print(len(data_list))"
   ]
  },
  {
   "cell_type": "code",
   "execution_count": 6,
   "metadata": {},
   "outputs": [
    {
     "name": "stdout",
     "output_type": "stream",
     "text": [
      "Linha 0: \n",
      "['Start Time', 'End Time', 'Trip Duration', 'Start Station', 'End Station', 'User Type', 'Gender', 'Birth Year']\n"
     ]
    }
   ],
   "source": [
    "print(\"Linha 0: \")\n",
    "print(data_list[0])"
   ]
  },
  {
   "cell_type": "code",
   "execution_count": 7,
   "metadata": {},
   "outputs": [
    {
     "name": "stdout",
     "output_type": "stream",
     "text": [
      "Linha 1: \n",
      "['2017-01-01 00:00:36', '2017-01-01 00:06:32', '356', 'Canal St & Taylor St', 'Canal St & Monroe St (*)', 'Customer', '', '']\n"
     ]
    }
   ],
   "source": [
    "print(\"Linha 1: \")\n",
    "print(data_list[1])"
   ]
  },
  {
   "cell_type": "code",
   "execution_count": 8,
   "metadata": {},
   "outputs": [
    {
     "name": "stdout",
     "output_type": "stream",
     "text": [
      "\n",
      "\n",
      "TAREFA 1: Imprimindo as primeiras 20 amostras\n",
      "['2017-01-01 00:00:36', '2017-01-01 00:06:32', '356', 'Canal St & Taylor St', 'Canal St & Monroe St (*)', 'Customer', '', '']\n",
      "['2017-01-01 00:02:54', '2017-01-01 00:08:21', '327', 'Larrabee St & Menomonee St', 'Sheffield Ave & Kingsbury St', 'Subscriber', 'Male', '1984.0']\n",
      "['2017-01-01 00:06:06', '2017-01-01 00:18:31', '745', 'Orleans St & Chestnut St (NEXT Apts)', 'Ashland Ave & Blackhawk St', 'Subscriber', 'Male', '1985.0']\n",
      "['2017-01-01 00:07:28', '2017-01-01 00:12:51', '323', 'Franklin St & Monroe St', 'Clinton St & Tilden St', 'Subscriber', 'Male', '1990.0']\n",
      "['2017-01-01 00:07:57', '2017-01-01 00:20:53', '776', 'Broadway & Barry Ave', 'Sedgwick St & North Ave', 'Subscriber', 'Male', '1990.0']\n",
      "['2017-01-01 00:10:44', '2017-01-01 00:21:27', '643', 'State St & Kinzie St', 'Wells St & Polk St', 'Subscriber', 'Male', '1970.0']\n",
      "['2017-01-01 00:11:34', '2017-01-01 00:23:47', '733', 'Wabash Ave & Wacker Pl', 'Clinton St & Tilden St', 'Subscriber', 'Male', '1986.0']\n",
      "['2017-01-01 00:14:57', '2017-01-01 00:26:22', '685', 'Daley Center Plaza', 'Canal St & Monroe St (*)', 'Customer', '', '']\n",
      "['2017-01-01 00:15:03', '2017-01-01 00:26:28', '685', 'Daley Center Plaza', 'Canal St & Monroe St (*)', 'Customer', '', '']\n",
      "['2017-01-01 00:17:01', '2017-01-01 00:29:49', '768', 'Dayton St & North Ave', 'Ogden Ave & Chicago Ave', 'Customer', '', '']\n",
      "['2017-01-01 00:17:13', '2017-01-01 11:03:34', '38781', 'Wilton Ave & Diversey Pkwy', 'Halsted St & Wrightwood Ave', 'Subscriber', 'Female', '1988.0']\n",
      "['2017-01-01 00:18:28', '2017-01-01 00:31:05', '757', 'Canal St & Madison St', 'LaSalle St & Illinois St', 'Customer', '', '']\n",
      "['2017-01-01 00:18:50', '2017-01-01 00:21:47', '177', 'Theater on the Lake', 'Lakeview Ave & Fullerton Pkwy', 'Subscriber', 'Male', '1991.0']\n",
      "['2017-01-01 00:23:41', '2017-01-01 00:29:13', '332', 'Halsted St & Maxwell St', 'Halsted St & 18th St', 'Subscriber', 'Male', '1984.0']\n",
      "['2017-01-01 00:25:47', '2017-01-01 00:39:53', '846', 'Ravenswood Ave & Lawrence Ave', 'Clarendon Ave & Gordon Ter', 'Subscriber', 'Female', '1987.0']\n",
      "['2017-01-01 00:25:47', '2017-01-01 00:43:23', '1056', 'Clark St & Congress Pkwy', 'Wolcott Ave & Polk St', 'Subscriber', 'Male', '1984.0']\n",
      "['2017-01-01 00:26:21', '2017-01-01 00:39:40', '799', 'Ravenswood Ave & Lawrence Ave', 'Clarendon Ave & Gordon Ter', 'Subscriber', 'Male', '1987.0']\n",
      "['2017-01-01 00:27:21', '2017-01-01 00:42:59', '938', 'Millennium Park', 'Michigan Ave & 18th St', 'Subscriber', 'Male', '1991.0']\n",
      "['2017-01-01 00:27:28', '2017-01-01 00:42:44', '916', 'Millennium Park', 'Michigan Ave & 18th St', 'Subscriber', 'Female', '1990.0']\n",
      "['2017-01-01 00:27:45', '2017-01-01 00:31:13', '208', 'Damen Ave & Chicago Ave', 'Damen Ave & Division St', 'Subscriber', 'Male', '1982.0']\n"
     ]
    }
   ],
   "source": [
    "print(\"\\n\\nTAREFA 1: Imprimindo as primeiras 20 amostras\")\n",
    "\n",
    "# Vamos mudar o data_list para remover o cabeçalho dele.\n",
    "data_list = data_list[1:]\n",
    "\n",
    "for item in range(0, 20):\n",
    "    print(data_list[item])\n"
   ]
  },
  {
   "cell_type": "code",
   "execution_count": 9,
   "metadata": {},
   "outputs": [
    {
     "name": "stdout",
     "output_type": "stream",
     "text": [
      "\n",
      "TAREFA 2: Imprimindo o gênero das primeiras 20 amostras\n",
      "\n",
      "Male\n",
      "Male\n",
      "Male\n",
      "Male\n",
      "Male\n",
      "Male\n",
      "\n",
      "\n",
      "\n",
      "Female\n",
      "\n",
      "Male\n",
      "Male\n",
      "Female\n",
      "Male\n",
      "Male\n",
      "Male\n",
      "Female\n",
      "Male\n"
     ]
    }
   ],
   "source": [
    "print(\"\\nTAREFA 2: Imprimindo o gênero das primeiras 20 amostras\")\n",
    "\n",
    "for item in range(0, 20):\n",
    "    print(data_list[item][-2])"
   ]
  },
  {
   "cell_type": "code",
   "execution_count": 10,
   "metadata": {},
   "outputs": [],
   "source": [
    "def column_to_list(data, index):\n",
    "    column_list = []\n",
    "    # Dica: Você pode usar um for para iterar sobre as amostras, pegar a feature pelo seu índice, e dar append para uma lista\n",
    "\n",
    "    for item in data:\n",
    "        column_list.append(item[index])\n",
    "    \n",
    "    return column_list\n"
   ]
  },
  {
   "cell_type": "code",
   "execution_count": 24,
   "metadata": {},
   "outputs": [
    {
     "name": "stdout",
     "output_type": "stream",
     "text": [
      "\n",
      "TAREFA 3: Imprimindo a lista de gêneros das primeiras 20 amostras\n",
      "['', 'Male', 'Male', 'Male', 'Male', 'Male', 'Male', '', '', '', 'Female', '', 'Male', 'Male', 'Female', 'Male', 'Male', 'Male', 'Female', 'Male']\n"
     ]
    }
   ],
   "source": [
    "print(\"\\nTAREFA 3: Imprimindo a lista de gêneros das primeiras 20 amostras\")\n",
    "print(column_to_list(data_list, -2)[:20])\n",
    "\n",
    "# ------------ NÃO MUDE NENHUM CÓDIGO AQUI ------------\n",
    "assert type(column_to_list(data_list, -2)) is list, \"TAREFA 3: Tipo incorreto retornado. Deveria ser uma lista.\"\n",
    "assert len(column_to_list(data_list, -2)) == 1551505, \"TAREFA 3: Tamanho incorreto retornado.\"\n",
    "assert column_to_list(data_list, -2)[0] == \"\" and column_to_list(data_list, -2)[1] == \"Male\", \"TAREFA 3: A lista não coincide.\"\n",
    "# -----------------------------------------------------"
   ]
  },
  {
   "cell_type": "code",
   "execution_count": 13,
   "metadata": {},
   "outputs": [
    {
     "name": "stdout",
     "output_type": "stream",
     "text": [
      "\n",
      "TAREFA 4: Imprimindo quantos masculinos e femininos nós encontramos\n",
      "Masculinos:  935854 \n",
      "Femininos :  298784\n"
     ]
    }
   ],
   "source": [
    "# TAREFA 4\n",
    "# TODO: Conte cada gênero. Você não deveria usar uma função para isso.\n",
    "male = 0\n",
    "female = 0\n",
    "\n",
    "for gender in data_list:\n",
    "    if gender[-2] == \"Male\":\n",
    "        male +=1\n",
    "    elif gender[-2] == \"Female\":\n",
    "        female +=1\n",
    "\n",
    "\n",
    "# Verificando o resultado\n",
    "print(\"\\nTAREFA 4: Imprimindo quantos masculinos e femininos nós encontramos\")\n",
    "print(\"Masculinos: \", male, \"\\nFemininos : \", female)"
   ]
  },
  {
   "cell_type": "code",
   "execution_count": 14,
   "metadata": {},
   "outputs": [],
   "source": [
    "# ------------ NÃO MUDE NENHUM CÓDIGO AQUI ------------\n",
    "assert male == 935854 and female == 298784, \"TAREFA 4: A conta não bate.\"\n",
    "# -----------------------------------------------------"
   ]
  },
  {
   "cell_type": "code",
   "execution_count": 15,
   "metadata": {},
   "outputs": [
    {
     "name": "stdout",
     "output_type": "stream",
     "text": [
      "\n",
      "TAREFA 5: Imprimindo o resultado de count_gender\n",
      "[935854, 298784]\n"
     ]
    }
   ],
   "source": [
    "# TAREFA 5\n",
    "# TODO: Crie uma função para contar os gêneros. Retorne uma lista.\n",
    "# Isso deveria retornar uma lista com [count_male, count_female] (exemplo: [10, 15] significa 10 Masculinos, 15 Femininos)\n",
    "def count_gender(data_list):\n",
    "    male = 0\n",
    "    female = 0\n",
    "\n",
    "    for gender in data_list:\n",
    "        if gender[-2] == \"Male\":\n",
    "            male +=1\n",
    "        elif gender[-2] == \"Female\":\n",
    "            female +=1        \n",
    "    \n",
    "    return [male, female]\n",
    "\n",
    "\n",
    "print(\"\\nTAREFA 5: Imprimindo o resultado de count_gender\")\n",
    "print(count_gender(data_list))\n"
   ]
  },
  {
   "cell_type": "code",
   "execution_count": 16,
   "metadata": {},
   "outputs": [],
   "source": [
    "# ------------ NÃO MUDE NENHUM CÓDIGO AQUI ------------\n",
    "assert type(count_gender(data_list)) is list, \"TAREFA 5: Tipo incorreto retornado. Deveria retornar uma lista.\"\n",
    "assert len(count_gender(data_list)) == 2, \"TAREFA 5: Tamanho incorreto retornado.\"\n",
    "assert count_gender(data_list)[0] == 935854 and count_gender(data_list)[1] == 298784, \"TAREFA 5: Resultado incorreto no retorno!\"\n",
    "# -----------------------------------------------------\n"
   ]
  },
  {
   "cell_type": "code",
   "execution_count": 17,
   "metadata": {},
   "outputs": [
    {
     "name": "stdout",
     "output_type": "stream",
     "text": [
      "\n",
      "TAREFA 6: Qual é o gênero mais popular na lista?\n",
      "O gênero mais popular na lista é:  Male\n"
     ]
    }
   ],
   "source": [
    "def most_popular_gender(data_list):\n",
    "    answer = \"\"\n",
    "\n",
    "    count_gender_general = count_gender(data_list)\n",
    "    \n",
    "    if count_gender_general[0] == count_gender_general[1]:\n",
    "        answer = \"Equal\"\n",
    "    elif count_gender_general[0] > count_gender_general[1]:\n",
    "        answer = \"Male\"\n",
    "    else:\n",
    "        answer = \"Female\"\n",
    "\n",
    "    return answer\n",
    "\n",
    "\n",
    "print(\"\\nTAREFA 6: Qual é o gênero mais popular na lista?\")\n",
    "print(\"O gênero mais popular na lista é: \", most_popular_gender(data_list))"
   ]
  },
  {
   "cell_type": "code",
   "execution_count": 118,
   "metadata": {},
   "outputs": [],
   "source": [
    "#------------ NÃO MUDE NENHUM CÓDIGO AQUI ------------\n",
    "assert type(most_popular_gender(data_list)) is str, \"TAREFA 6: Tipo incorreto no retorno. Deveria retornar uma string.\"\n",
    "assert most_popular_gender(data_list) == \"Male\", \"TAREFA 6: Resultado de retorno incorreto!\"\n",
    "# -----------------------------------------------------"
   ]
  },
  {
   "cell_type": "code",
   "execution_count": 18,
   "metadata": {},
   "outputs": [
    {
     "data": {
      "image/png": "[encoded data removed]",
      "text/plain": [
       "<Figure size 432x288 with 1 Axes>"
      ]
     },
     "metadata": {
      "needs_background": "light"
     },
     "output_type": "display_data"
    }
   ],
   "source": [
    "# Se tudo está rodando como esperado, verifique este gráfico!\n",
    "gender_list = column_to_list(data_list, -2)\n",
    "types = [\"Male\", \"Female\"]\n",
    "quantity = count_gender(data_list)\n",
    "y_pos = list(range(len(types)))\n",
    "plt.bar(y_pos, quantity)\n",
    "plt.ylabel('Quantidade')\n",
    "plt.xlabel('Gênero')\n",
    "plt.xticks(y_pos, types)\n",
    "plt.title('Quantidade por Gênero')\n",
    "plt.show(block=True)"
   ]
  },
  {
   "cell_type": "code",
   "execution_count": 19,
   "metadata": {},
   "outputs": [
    {
     "name": "stdout",
     "output_type": "stream",
     "text": [
      "\n",
      "TAREFA 7: Verifique o gráfico!\n"
     ]
    },
    {
     "data": {
      "image/png": "[encoded data removed]",
      "text/plain": [
       "<Figure size 432x288 with 1 Axes>"
      ]
     },
     "metadata": {
      "needs_background": "light"
     },
     "output_type": "display_data"
    }
   ],
   "source": [
    "# TAREFA 7\n",
    "# TODO: Crie um gráfico similar para user_types. Tenha certeza que a legenda está correta.\n",
    "print(\"\\nTAREFA 7: Verifique o gráfico!\")\n",
    "\n",
    "\"\"\"\n",
    "    Efetua a contagem de tipos de usuário\n",
    "    Argumentos:\n",
    "        param1: lista de tipos de usuários a serem encontrados\n",
    "        param2: lista de dados a serem pesquisados\n",
    "    Retorna:\n",
    "        Uma lista contendo a quantidade por cada tipo de usuario \n",
    "\"\"\"\n",
    "def count_user_types(types, data_list):\n",
    "    lista = []\n",
    "    for user_type in types:\n",
    "        lista.append(column_to_list(data_list, -3).count(user_type))\n",
    "        \n",
    "    return lista\n",
    " \n",
    "types = list(set(column_to_list(data_list, -3)))\n",
    "quantity = count_user_types(types,data_list)\n",
    "y_pos = list(range(len(types)))\n",
    "plt.bar(y_pos, quantity)\n",
    "plt.ylabel('Quantidade')\n",
    "plt.xlabel('Tipo de Usuário')\n",
    "plt.xticks(y_pos, types)\n",
    "plt.title('Quantidade por Tipo de Usuário')\n",
    "plt.show(block=True)"
   ]
  },
  {
   "cell_type": "code",
   "execution_count": 20,
   "metadata": {},
   "outputs": [
    {
     "name": "stdout",
     "output_type": "stream",
     "text": [
      "\n",
      "TAREFA 8: Por que a condição a seguir é Falsa?\n",
      "male + female == len(data_list): False\n",
      "resposta: Porque existem registros com o gênero em branco e não somente Male e Female!\n"
     ]
    }
   ],
   "source": [
    "# TAREFA 8\n",
    "# TODO: Responda a seguinte questão\n",
    "male, female = count_gender(data_list)\n",
    "print(\"\\nTAREFA 8: Por que a condição a seguir é Falsa?\")\n",
    "print(\"male + female == len(data_list):\", male + female == len(data_list))\n",
    "answer = \"Porque existem registros com o gênero em branco e não somente Male e Female!\"\n",
    "print(\"resposta:\", answer)\n",
    "\n",
    "# ------------ NÃO MUDE NENHUM CÓDIGO AQUI ------------\n",
    "assert answer != \"Escreva sua resposta aqui.\", \"TAREFA 8: Escreva sua própria resposta!\"\n",
    "# -----------------------------------------------------\n"
   ]
  },
  {
   "cell_type": "code",
   "execution_count": 21,
   "metadata": {
    "scrolled": true
   },
   "outputs": [
    {
     "name": "stdout",
     "output_type": "stream",
     "text": [
      "\n",
      "TAREFA 9: Imprimindo o mínimo, máximo, média, e mediana\n",
      "Min:  60.0 Max:  86338.0 Média:  940.0 Mediana:  670.0\n"
     ]
    }
   ],
   "source": [
    "# TAREFA 9\n",
    "# TODO: Ache a duração de viagem Mínima, Máxima, Média, e Mediana.\n",
    "# Você não deve usar funções prontas para isso, como max() e min().\n",
    "trip_duration_list = column_to_list(data_list, 2)\n",
    "min_trip = 0.\n",
    "max_trip = 0.\n",
    "mean_trip = 0.\n",
    "median_trip = 0.\n",
    "\n",
    "\"\"\" busca do min_trip/ max_trip\"\"\"\n",
    "count_trip = 0.\n",
    "for item in trip_duration_list:\n",
    "\n",
    "    vl = float(item)\n",
    "\n",
    "    count_trip += vl\n",
    "\n",
    "    if min_trip == 0:\n",
    "        min_trip = vl\n",
    "    \n",
    "    if vl < min_trip :        \n",
    "        min_trip = vl\n",
    "\n",
    "    if max_trip == 0 or vl > max_trip:\n",
    "        max_trip = vl    \n",
    "\n",
    "\"\"\" Calculo da média, count_trip (somátoria da duração viagens) dividido pela quantidade de viagens \"\"\"\n",
    "mean_trip =  round(count_trip / len(trip_duration_list), 0)\n",
    "\n",
    "\n",
    "\"\"\" Cálculo da Mediana \"\"\"\n",
    "\"\"\" efetua a ordenação da lista pelo tempo de duração (ascendente) \"\"\"\n",
    "trip_list_sorted = sorted(trip_duration_list, key=float)\n",
    "\n",
    "\"\"\" caso seja par, deve-se tirar a média  dos dois elementos centrais da lista, onde resulta a mediana \"\"\"\n",
    "if len(trip_list_sorted) % 2 == 0 :    \n",
    "    median_trip = float(trip_list_sorted[len(trip_list_sorted) // 2] + trip_list_sorted[(len(trip_list_sorted) // 2)+1] / 2) \n",
    "else:\n",
    "    \"\"\" este caso que é impar, a mediana é determinada pelo elemento central da lista \"\"\"\n",
    "    median_trip = float(trip_list_sorted[(len(trip_list_sorted) // 2)+ 1])\n",
    "\n",
    "print(\"\\nTAREFA 9: Imprimindo o mínimo, máximo, média, e mediana\")\n",
    "print(\"Min: \", min_trip, \"Max: \", max_trip, \"Média: \", mean_trip, \"Mediana: \", median_trip)\n",
    "\n",
    "# ------------ NÃO MUDE NENHUM CÓDIGO AQUI ------------\n",
    "assert round(min_trip) == 60, \"TAREFA 9: min_trip com resultado errado!\"\n",
    "assert round(max_trip) == 86338, \"TAREFA 9: max_trip com resultado errado!\"\n",
    "assert round(mean_trip) == 940, \"TAREFA 9: mean_trip com resultado errado!\"\n",
    "assert round(median_trip) == 670, \"TAREFA 9: median_trip com resultado errado!\"\n",
    "# -----------------------------------------------------"
   ]
  },
  {
   "cell_type": "code",
   "execution_count": 22,
   "metadata": {
    "scrolled": false
   },
   "outputs": [
    {
     "name": "stdout",
     "output_type": "stream",
     "text": [
      "\n",
      "TAREFA 10: Imprimindo as start stations:\n",
      "582\n",
      "{'Cottage Grove Ave & 47th St', 'MLK Jr Dr & 56th St (*)', 'Clifton Ave & Lawrence Ave', 'Stockton Dr & Wrightwood Ave', 'Blue Island Ave & 18th St', 'Indiana Ave & 40th St', 'Ravenswood Ave & Irving Park Rd', 'LaSalle St & Washington St', 'Ashland Ave & Harrison St', 'Wabash Ave & 16th St', 'Ashland Ave & 13th St', 'DuSable Museum', 'Clark St & Elm St', 'Leavitt St & Archer Ave', 'Sangamon St & Washington Blvd (*)', 'Canal St & Adams St', 'Larrabee St & Menomonee St', 'Broadway & Cornelia Ave', 'Laramie Ave & Kinzie St', 'Lakeview Ave & Fullerton Pkwy', 'Damen Ave & 51st St', 'Kedzie Ave & Bryn Mawr Ave', 'Kimbark Ave & 53rd St', 'Dusable Harbor', 'Kingsbury St & Kinzie St', 'Vernon Ave & 75th St', 'Rush St & Superior St', 'Larrabee St & Division St', 'Halsted St & Wrightwood Ave', 'Halsted St & Willow St', 'Kostner Ave & Lake St', 'Broadway & Ridge Ave', 'Rush St & Hubbard St', 'Halsted St & Diversey Pkwy', 'Wells St & Elm St', 'Kostner Ave & Adams St', 'California Ave & Milwaukee Ave', 'Clinton St & Polk St (*)', 'Halsted St & 56th St', 'Budlong Woods Library', 'Clark St & Touhy Ave', 'Central Ave & Chicago Ave', 'Franklin St & Quincy St', 'Halsted St & Archer Ave', 'Seeley Ave & Garfield Blvd', 'Sheffield Ave & Wrightwood Ave', 'Halsted St & 21st St', 'Racine Ave & 15th St', 'Milwaukee Ave & Rockwell St', 'Ashland Ave & 21st St', 'Chicago Ave & Washington St', 'Sheridan Rd & Lawrence Ave', 'Hermitage Ave & Polk St', 'LaSalle St & Adams St', 'Broadway & Sheridan Rd', 'Dodge Ave & Church St', 'Dearborn St & Adams St', 'Bosworth Ave & Howard St', 'Millennium Park', 'Desplaines St & Jackson Blvd', 'Morgan St & Pershing Rd', 'Ashland Ave & Garfield Blvd', 'Clark St & Winnemac Ave', 'Warren Park East', 'Lincoln Ave & Waveland Ave', 'Ashland Ave & Augusta Blvd', 'Racine Ave & Fullerton Ave', 'Central St & Girard Ave', 'Lincoln Ave & Belle Plaine Ave', 'Albany Ave & Bloomingdale Ave', 'Halsted St & 59th St', 'Greenwood Ave & 79th St', 'Halsted St & 18th St', 'Normal Ave & 72nd St', 'Western Ave & Winnebago Ave', 'State St & Harrison St', 'Lincoln Ave & Diversey Pkwy', 'Monticello Ave & Irving Park Rd', 'Ellis Ave & 60th St', 'Lombard Ave & Garfield St', 'Stony Island Ave & 82nd St', 'Cottage Grove Ave & 78th St', 'Clark St & Bryn Mawr Ave', 'Oak Park Ave & South Blvd', 'Michigan Ave & Madison St', 'Wells St & Evergreen Ave', 'Rush St & Cedar St', 'Southport Ave & Belmont Ave', 'Cuyler Ave & Augusta St', 'Damen Ave & Wellington Ave', 'Broadway & Belmont Ave', 'Francisco Ave & Foster Ave', 'Halsted St & Blackhawk St (*)', 'Shedd Aquarium', 'Wood St & Taylor St', 'Avondale Ave & Irving Park Rd', 'Racine Ave & Randolph St', 'Loomis St & Lexington St', 'Kedzie Ave & 21st St', 'Halsted St & 35th St (*)', 'Daley Center Plaza', 'Wells St & Huron St', 'Knox Ave & Montrose Ave', 'Lincoln Ave & Belmont Ave', 'Indiana Ave & Roosevelt Rd', 'Austin Blvd & Chicago Ave', 'Clinton St & Washington Blvd', 'Lake Shore Dr & Ohio St', 'Paulina St & Montrose Ave', 'Stave St & Armitage Ave', 'Halsted St & Polk St', 'Damen Ave & Charleston St', 'Oakley Ave & Irving Park Rd', 'Clinton St & Jackson Blvd', 'Shore Dr & 55th St', 'Wabash Ave & Roosevelt Rd', 'Clark St & Schreiber Ave', 'Warren Park West', 'Cannon Dr & Fullerton Ave', 'Drake Ave & Fullerton Ave', 'Sedgwick St & North Ave', 'Adler Planetarium', 'Damen Ave & Pershing Rd', 'Financial Pl & Congress Pkwy', 'Morgan Ave & 14th Pl', 'State St & 29th St', 'Ritchie Ct & Banks St', 'Ashland Ave & Grace St', 'Lincoln Ave & Fullerton Ave', 'Throop St & 52nd St', 'Kingsbury St & Erie St', 'California Ave & Division St', 'Milwaukee Ave & Cuyler Ave', 'Indiana Ave & 31st St', '63rd St Beach', 'Stony Island Ave & South Chicago Ave', 'Lakefront Trail & Bryn Mawr Ave', 'Ashland Ave & Belle Plaine Ave', 'Clarendon Ave & Junior Ter', 'Field Blvd & South Water St', 'Eckhart Park', 'Mies van der Rohe Way & Chicago Ave', 'Ravenswood Ave & Berteau Ave', 'South Shore Dr & 71st St', 'Dearborn St & Monroe St', 'Western Ave & 24th St', 'Western Ave & 28th St', 'Talman Ave & Addison St', 'Damen Ave & Madison St', 'Ashland Ave & Archer Ave', 'Lake Shore Dr & Wellington Ave', 'Lake Shore Dr & North Blvd', 'Clark St & Lunt Ave', 'Benson Ave & Church St', 'Campbell Ave & Montrose Ave', 'Winchester Ave & Elston Ave', 'Rainbow Beach', 'Clifton Ave & Armitage Ave', 'Laramie Ave & Gladys Ave', 'Morgan St & 18th St', 'Marshfield Ave & 44th St', 'Drake Ave & Addison St', 'Halsted St & 47th Pl', 'Lake Shore Dr & Belmont Ave', 'Kenton Ave & Madison St', 'Yates Blvd & 75th St', 'Damen Ave & 59th St', 'Saginaw Ave & Exchange Ave', 'Larrabee St & Oak St', 'Eberhart Ave & 61st St', 'Clinton St & Tilden St', 'Mason Ave & Madison St', 'Elston Ave & Wabansia Ave', 'Burnham Harbor', 'Franklin St & Lake St', 'Bennett Ave & 79th St', 'MLK Jr Dr & 63rd St', 'Broadway & Thorndale Ave', 'Ravenswood Ave & Montrose Ave (*)', 'Larrabee St & Kingsbury St', 'Ogden Ave & Roosevelt Rd', 'Albany Ave & 26th St', 'Racine Ave & Congress Pkwy', 'University Library (NU)', 'Western Ave & Monroe St', 'Damen Ave & Coulter St', 'Peoria St & Jackson Blvd', 'MLK Jr Dr & 47th St', 'Carpenter St & Huron St', 'Ashland Ave & Chicago Ave', 'Emerald Ave & 31st St', 'Lake Shore Dr & Monroe St', 'Damen Ave & Division St', 'Larrabee St & Webster Ave', 'California Ave & Cortez St', 'Kedzie Ave & Milwaukee Ave', 'Kedzie Ave & Leland Ave', 'MLK Jr Dr & 29th St', 'Wentworth Ave & Archer Ave', 'Cornell Ave & Hyde Park Blvd', 'Princeton Ave & Garfield Blvd', 'Sawyer Ave & Irving Park Rd', 'Troy St & North Ave', 'Wabash Ave & Wacker Pl', 'Vernon Ave & 79th St', 'Damen Ave & Cortland St', 'Montrose Harbor', 'Evans Ave & 75th St', 'May St & 69th St', 'Buckingham Fountain', 'Central Park Ave & Ogden Ave', 'Lake Park Ave & 47th St', 'Lombard Ave & Madison St', 'Damen Ave & Foster Ave', 'Leavitt St & Lawrence Ave', 'Bissell St & Armitage Ave', 'Broadway & Barry Ave', 'Stony Island Ave & 64th St', 'California Ave & Fletcher St', 'State St & 33rd St', 'Loomis St & Jackson Blvd', 'Ogden Ave & Race Ave', 'Wabash Ave & 8th St', 'Leavitt St & Armitage Ave', 'Wood St & Milwaukee Ave', 'Humphrey Ave & Ontario St', 'Canal St & Monroe St (*)', 'Jeffery Blvd & 67th St', 'Michigan Ave & 14th St', 'Claremont Ave & Hirsch St', 'East Ave & Garfield St', 'Calumet Ave & 18th St', 'Kedzie Ave & Lake St', 'Marshfield Ave & Cortland St', 'Clark St & Leland Ave', 'Humboldt Blvd & Armitage Ave', 'Elizabeth St & 47th St', 'Green St & Randolph St', 'Clinton St & 18th St', 'Noble St & Milwaukee Ave', 'Ada St & Washington Blvd', 'Central Ave & Lake St', 'Damen Ave & Grand Ave', 'Lincoln Ave & Addison St', 'Sheffield Ave & Webster Ave', 'Clark St & Armitage Ave', 'May St & Cullerton St', 'Woodlawn Ave & Lake Park Ave', 'Broadway & Berwyn Ave', 'Lincoln Ave & Roscoe St', 'Clark St & Chicago Ave', 'Wabash Ave & 83rd St', 'Rhodes Ave & 32nd St', 'Jeffery Blvd & 71st St', 'Clark St & Montrose Ave', 'Clark St & Berwyn Ave', 'St. Clair St & Erie St', 'Conservatory Dr & Lake St', 'Green St & Madison St', 'Wells St & Concord Ln', 'Cottage Grove Ave & 71st St', 'Spaulding Ave & Division St', 'Princeton Ave & 47th St', 'Ashland Ave & 69th St', 'Wabash Ave & Cermak Rd', 'Racine Ave & 18th St', 'Sheridan Rd & Noyes St (NU)', 'State St & 19th St', 'Wolcott Ave & Polk St', 'Western Ave & Howard St', 'Milwaukee Ave & Wabansia Ave', 'Austin Blvd & Lake St', 'Damen Ave & Chicago Ave', 'Sheridan Rd & Greenleaf Ave', 'Kedzie Ave & Harrison St', 'Clark St & Jarvis Ave', 'Ashland Ave & Grand Ave', 'Central Ave & Madison St', 'Wilton Ave & Diversey Pkwy', 'Michigan Ave & Oak St', 'Racine Ave & 13th St', 'Union Ave & Root St', 'Pine Grove Ave & Waveland Ave', 'LaSalle St & Jackson Blvd', 'Wells St & Polk St', 'Shields Ave & 31st St', 'Orleans St & Merchandise Mart Plaza', 'Clark St & 9th St (AMLI)', 'Ashland Ave & McDowell Ave', 'Halsted St & Maxwell St', 'Leavitt St & North Ave', 'California Ave & Francis Pl', 'Dayton St & North Ave', 'Damen Ave & Melrose Ave', 'Jefferson St & Monroe St', 'Western Blvd & 48th Pl', 'McCormick Place', 'Ashland Ave & Blackhawk St', 'Halsted St & Dickens Ave', 'Mies van der Rohe Way & Chestnut St', 'Canal St & Madison St', 'Fairbanks Ct & Grand Ave', 'Paulina St & 18th St', 'Loomis St & Taylor St (*)', 'Clark St & Elmdale Ave', 'Wentworth Ave & 33rd St', 'Forest Ave & Chicago Ave', 'Ashland Ave & Wellington Ave', 'Ogden Ave & Chicago Ave', 'Ashland Ave & Division St', 'Western Ave & Division St', 'Kedzie Ave & Chicago Ave', 'Halsted St & 37th St', 'Cottage Grove Ave & 43rd St', 'Western Ave & Leland Ave', 'Aberdeen St & Monroe St', 'Pulaski Rd & Lake St', 'Forest Ave & Lake St', 'Sheridan Rd & Montrose Ave', 'Clark St & Wellington Ave', 'Cottage Grove Ave & Oakwood Blvd', 'Jeffery Blvd & 76th St', 'May St & Taylor St', 'Dorchester Ave & 49th St', 'University Ave & 57th St', 'Kedzie Ave & 24th St', 'Woodlawn Ave & 55th St', 'Ravenswood Ave & Lawrence Ave', 'Morgan St & 31st St', 'Southport Ave & Clybourn Ave', '900 W Harrison St', 'Clark St & North Ave', 'Ashland Ave & Pershing Rd', 'South Shore Dr & 67th St', 'Shields Ave & 43rd St', 'Lake Park Ave & 53rd St', 'Sheffield Ave & Fullerton Ave', 'Kilbourn Ave & Milwaukee Ave', 'South Shore Dr & 74th St', 'Pulaski Rd & Congress Pkwy', 'Normal Ave & Archer Ave', 'Ridge Blvd & Howard St', 'California Ave & Altgeld St', 'MLK Jr Dr & Oakwood Blvd', 'Ellis Ave & 83rd St', 'Orleans St & Chestnut St (NEXT Apts)', 'Sedgwick St & Webster Ave', 'Streeter Dr & Grand Ave', 'Millard Ave & 26th St', 'Ellis Ave & 53rd St', 'Aberdeen St & Jackson Blvd', 'Laramie Ave & Madison St', 'Emerald Ave & 28th St', 'Damen Ave & Pierce Ave', 'Paulina Ave & North Ave', 'Southport Ave & Wellington Ave', 'Keystone Ave & Montrose Ave', 'St. Louis Ave & Balmoral Ave', 'Valli Produce - Evanston Plaza', 'Commercial Ave & 83rd St', 'Clark St & Wrightwood Ave', 'Halsted St & Roosevelt Rd', 'Harper Ave & 59th St', 'Dearborn St & Erie St', 'Sheffield Ave & Waveland Ave', 'Cottage Grove Ave & 51st St', 'Lake Park Ave & 35th St', 'Racine Ave & 35th St', 'Wolcott Ave & Fargo Ave', 'Shields Ave & 28th Pl', 'Oak Park Ave & Harrison St', 'State St & Kinzie St', 'Michigan Ave & Congress Pkwy', 'Pulaski Rd & Eddy St', 'California Ave & 23rd Pl', 'Greenview Ave & Diversey Pkwy', 'Maplewood Ave & Peterson Ave', 'Ashland Ave & Wrightwood Ave', 'State St & 76th St', 'Clarendon Ave & Gordon Ter', 'California Ave & North Ave', 'Southport Ave & Irving Park Rd', 'Central St Metra', 'Racine Ave & Belmont Ave', 'MLK Jr Dr & 83rd St', 'McClurg Ct & Erie St', 'Sedgwick St & Huron St', 'Clark St & Columbia Ave', 'Lincoln Ave & Leavitt St', 'Fort Dearborn Dr & 31st St', 'Glenwood Ave & Morse Ave', 'Orleans St & Ohio St', 'Hampden Ct & Diversey Pkwy', 'Prairie Ave & 43rd St', 'Ridge Blvd & Touhy Ave', 'Racine Ave & Wrightwood Ave', 'Southport Ave & Wrightwood Ave', 'Perry Ave & 69th St', 'Kedzie Ave & Palmer Ct', 'Central Park Blvd & 5th Ave', 'Damen Ave & Sunnyside Ave', 'Wentworth Ave & 35th St', 'Ashland Ave & 66th St', 'Lawndale Ave & 23rd St', 'Sheridan Rd & Loyola Ave', 'Seeley Ave & Roscoe St', 'Spaulding Ave & Armitage Ave', 'Washtenaw Ave & 15th St (*)', 'Clark St & Lake St', 'California Ave & 26th St', 'Wood St & Division St', 'Columbus Dr & Randolph St', 'Cottage Grove Ave & 83rd St', 'Indiana Ave & 26th St', 'Wentworth Ave & 63rd St', 'South Chicago Ave & 83rd St', 'Ellis Ave & 58th St', 'Paulina St & Howard St', 'Pulaski Rd & Madison St', '2112 W Peterson Ave', 'Morgan St & Polk St', 'Michigan Ave & Washington St', 'Eastlake Ter & Rogers Ave', 'Southport Ave & Waveland Ave', 'Campbell Ave & Fullerton Ave', 'Ashland Ave & Lake St', 'Damen Ave & Clybourn Ave', 'Halsted St & 51st St', 'State St & 35th St', 'McClurg Ct & Illinois St', 'Wells St & 19th St', 'Wentworth Ave & 24th St', 'Wood St & Hubbard St', 'Wells St & Walton St', 'Stetson Ave & South Water St', 'Western Ave & Granville Ave', 'Western Ave & Lunt Ave', 'Wood St & 35th St', 'Larrabee St & North Ave', 'Clark St & Randolph St', 'East Ave & Madison St', 'State St & Pershing Rd', 'Lake Shore Dr & Diversey Pkwy', 'Rockwell St & Eastwood Ave', 'Wacker Dr & Washington St', 'Sheffield Ave & Wellington Ave', 'Ridgeland Ave & Lake St', 'Wabash Ave & Adams St', 'California Ave & Byron St', 'Christiana Ave & Lawrence Ave', 'Desplaines St & Kinzie St', 'Damen Ave & Cullerton St', 'Avers Ave & Belmont Ave', 'Halsted St & 69th St', 'Cityfront Plaza Dr & Pioneer Ct', 'Clark St & Grace St', 'Richmond St & Diversey Ave', 'Drake Ave & Montrose Ave', 'Wallace St & 35th St', 'Sheridan Rd & Irving Park Rd', 'Stony Island Ave & 67th St', 'Halsted St & Roscoe St', 'Clark St & Schiller St', 'Sheridan Rd & Buena Ave', 'Lincoln Ave & Winona St', 'State St & 79th St', 'Lake Park Ave & 56th St', 'Kilbourn Ave & Irving Park Rd', 'Michigan Ave & Pearson St', 'Troy St & Elston Ave', 'Broadway & Granville Ave', 'Phillips Ave & 79th St', 'Central Ave & Harrison St', 'Clinton St & Madison St', 'Greenwood Ave & 47th St', 'Desplaines St & Randolph St', 'Blackstone Ave & Hyde Park Blvd', 'Oakley Ave & Roscoe St', 'Broadway & Argyle St', 'Cottage Grove Ave & 63rd St', 'California Ave & Montrose Ave', 'Wilton Ave & Belmont Ave', 'Racine Ave & Garfield Blvd', 'Pine Grove Ave & Irving Park Rd', 'Ellis Ave & 55th St', 'Clark St & Congress Pkwy', 'Clarendon Ave & Leland Ave', 'Woodlawn Ave & 75th St', 'Canal St & Taylor St', 'Marion St & South Blvd', 'Franklin St & Chicago Ave', 'Central Park Ave & North Ave', 'Kimball Ave & Belmont Ave', 'Halsted St & 63rd St', 'Sacramento Blvd & Franklin Blvd', 'Cicero Ave & Quincy St', 'Stony Island Ave & 71st St', 'Broadway & Waveland Ave', 'State St & Van Buren St', 'Clark St & Lincoln Ave', 'Calumet Ave & 33rd St', 'Racine Ave & 61st St', 'Ogden Ave & Congress Pkwy', 'Racine Ave (May St) & Fulton St', 'Stony Island Ave & 75th St', 'Wabash Ave & Grand Ave', 'Ravenswood Ave & Balmoral Ave', 'Kedzie Ave & Roosevelt Rd', 'Wisconsin Ave & Madison St', 'Michigan Ave & 18th St', 'Damen Ave & Leland Ave', 'Albany (Kedzie) Ave & Montrose Ave', 'Western Ave & Walton St', 'State St & Randolph St', 'Michigan Ave & 8th St', 'Larrabee St & Armitage Ave', 'Campbell Ave & North Ave', 'Dorchester Ave & 63rd St', 'Museum of Science and Industry', 'Phillips Ave & 82nd St', 'Hoyne Ave & 47th St', 'Halsted St & North Branch St', 'Southport Ave & Clark St', 'Damen Ave & Augusta Blvd', 'Central Park Ave & Elbridge Ave', 'Greenview Ave & Jarvis Ave', 'Orleans St & Elm St (*)', 'Oakley Ave & Touhy Ave', 'Sheffield Ave & Willow St', 'Cicero Ave & Flournoy St', 'Calumet Ave & 21st St', 'Michigan Ave & Jackson Blvd', 'Sheffield Ave & Kingsbury St', 'Greenview Ave & Fullerton Ave', 'Marine Dr & Ainslie St', 'Leavitt St & Addison St', 'State St & Pearson St', 'Kosciuszko Park', 'Michigan Ave & Lake St', 'California Ave & 21st St', 'Wabash Ave & 87th St', 'Glenwood Ave & Touhy Ave', 'Marshfield Ave & 59th St', 'Franklin St & Monroe St', 'Manor Ave & Leland Ave', 'Calumet Ave & 35th St', 'Calumet Ave & 51st St', 'Dearborn Pkwy & Delaware Pl', 'Chicago Ave & Sheridan Rd', 'Kedzie Ave & Foster Ave', 'Southport Ave & Roscoe St', 'Fairfield Ave & Roosevelt Rd', 'Theater on the Lake', 'Keystone Ave & Fullerton Ave', 'Calumet Ave & 71st St', 'Morgan St & Lake St', 'Clinton St & Roosevelt Rd', 'Field Museum', 'Franklin St & Jackson Blvd', 'Exchange Ave & 79th St', 'Elmwood Ave & Austin St', 'Clybourn Ave & Division St', 'Ashland Ave & 50th St', 'Sedgwick St & Schiller St', 'Western Ave & 21st St', 'Broadway & Wilson Ave', 'Cicero Ave & Lake St', 'Cottage Grove Ave & 67th St', 'Federal St & Polk St', 'Artesian Ave & Hubbard St', 'Ashland Ave & 63rd St', 'Clinton St & Lake St', 'Western Ave & Congress Pkwy', 'Racine Ave & 65th St', 'Milwaukee Ave & Grand Ave', 'Logan Blvd & Elston Ave', 'LaSalle St & Illinois St', 'Loomis St & Archer Ave', 'Washtenaw Ave & Lawrence Ave', 'Canal St & Harrison St', 'Prairie Ave & Garfield Blvd', 'California Ave & Lake St'}\n"
     ]
    }
   ],
   "source": [
    "# TAREFA 10\n",
    "# Gênero é fácil porque nós temos apenas algumas opções. E quanto a start_stations? Quantas opções ele tem?\n",
    "# TODO: Verifique quantos tipos de start_stations nós temos, usando set()\n",
    "start_stations = set(column_to_list(data_list, 3))\n",
    "\n",
    "print(\"\\nTAREFA 10: Imprimindo as start stations:\")\n",
    "print(len(start_stations))\n",
    "print(start_stations)\n",
    "\n",
    "# ------------ NÃO MUDE NENHUM CÓDIGO AQUI ------------\n",
    "assert len(start_stations) == 582, \"TAREFA 10: Comprimento errado de start stations.\"\n",
    "# -----------------------------------------------------"
   ]
  },
  {
   "cell_type": "code",
   "execution_count": null,
   "metadata": {},
   "outputs": [],
   "source": [
    "# TAREFA 11\n",
    "# Volte e tenha certeza que você documentou suas funções. Explique os parâmetros de entrada, a saída, e o que a função faz. Exemplo:\n",
    "# def new_function(param1: int, param2: str) -> list:\n",
    "\"\"\"\n",
    "      Função de exemplo com anotações.\n",
    "      Argumentos:\n",
    "          param1: O primeiro parâmetro.\n",
    "          param2: O segundo parâmetro.\n",
    "      Retorna:\n",
    "          Uma lista de valores x.\n",
    "\n",
    "\"\"\""
   ]
  },
  {
   "cell_type": "code",
   "execution_count": 23,
   "metadata": {},
   "outputs": [
    {
     "name": "stdout",
     "output_type": "stream",
     "text": [
      "Você vai encarar o desafio? (yes ou no)\n",
      "\n",
      "TAREFA 12: Imprimindo resultados para count_items()\n",
      "Tipos: ['', 'Female', 'Male'] Counts: [316867, 298784, 935854]\n"
     ]
    }
   ],
   "source": [
    "# TAREFA 12 - Desafio! (Opcional)\n",
    "# TODO: Crie uma função para contar tipos de usuários, sem definir os tipos\n",
    "# para que nós possamos usar essa função com outra categoria de dados.\n",
    "print(\"Você vai encarar o desafio? (yes ou no)\")\n",
    "answer = \"yes\"\n",
    "\n",
    "def count_items(column_list):\n",
    "    item_types = []\n",
    "    count_items = []\n",
    "        \n",
    "    types = list(set(column_list))\n",
    "    \n",
    "    item_types = types\n",
    "    \n",
    "    for c in item_types:\n",
    "        count_items.append(sum(1 for i in column_list if i==c))\n",
    "   \n",
    "    \n",
    "    return item_types, count_items\n",
    "\n",
    "\n",
    "if answer == \"yes\":\n",
    "    # ------------ NÃO MUDE NENHUM CÓDIGO AQUI ------------\n",
    "    column_list = column_to_list(data_list, -2)\n",
    "    types, counts = count_items(column_list)\n",
    "    print(\"\\nTAREFA 12: Imprimindo resultados para count_items()\")\n",
    "    print(\"Tipos:\", types, \"Counts:\", counts)\n",
    "    assert len(types) == 3, \"TAREFA 12: Há 3 tipos de gênero!\"\n",
    "    assert sum(counts) == 1551505, \"TAREFA 12: Resultado de retorno incorreto!\"\n",
    "    # -----------------------------------------------------"
   ]
  }
 ],
 "metadata": {
  "kernelspec": {
   "display_name": "Python 3",
   "language": "python",
   "name": "python3"
  },
  "language_info": {
   "codemirror_mode": {
    "name": "ipython",
    "version": 3
   },
   "file_extension": ".py",
   "mimetype": "text/x-python",
   "name": "python",
   "nbconvert_exporter": "python",
   "pygments_lexer": "ipython3",
   "version": "3.7.0"
  }
 },
 "nbformat": 4,
 "nbformat_minor": 2
}
